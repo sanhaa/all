{
 "cells": [
  {
   "cell_type": "code",
   "execution_count": 17,
   "metadata": {},
   "outputs": [
    {
     "data": {
      "text/plain": [
       "[<selenium.webdriver.remote.webelement.WebElement (session=\"57b7ef70168f9488891ef9bedc1a85f0\", element=\"f.070D25EF8A696F70CDB840D1CAF39D1E.d.17CFA715B5BD9F81E2BAFF0F6A5A7529.e.500\")>]"
      ]
     },
     "execution_count": 17,
     "metadata": {},
     "output_type": "execute_result"
    }
   ],
   "source": [
    "from selenium import webdriver\n",
    "from selenium.webdriver.chrome.service import Service as ChromeService\n",
    "from webdriver_manager.chrome import ChromeDriverManager\n",
    "\n",
    "from selenium.webdriver.common.by import By\n",
    "\n",
    "driver = webdriver.Chrome(service=ChromeService(ChromeDriverManager().install()))\n",
    "\n",
    "### 네이버 기사 > 경제 탭 접속\n",
    "driver.get('https://news.naver.com/section/101')\n",
    "\n",
    "headline_list = driver.find_elements(By.XPATH, '//*[@id=\"newsct\"]/div[1]/div[1]/ul')\n",
    "headline_list\n",
    "\n",
    "# //*[@id=\"_SECTION_HEADLINE_LIST_ob2p0\"]\n",
    "# //*[@id=\"newsct\"]/div[1]/div[1]\n",
    "# /html/body/div/div[2]/div[2]/div[2]/div[1]/div[1]/ul\n",
    "# //*[@id=\"_SECTION_HEADLINE_LIST_l67p8\"]/li[1]/div/div/div[2]/a/strong\n"
   ]
  },
  {
   "cell_type": "code",
   "execution_count": 18,
   "metadata": {},
   "outputs": [
    {
     "name": "stdout",
     "output_type": "stream",
     "text": [
      "TSMC \"트럼프 2기 행정부서도 반도체 보조금 지급될 것\"\n",
      "뉴스1\n",
      "21\n",
      "개의 관련뉴스 더보기\n"
     ]
    }
   ],
   "source": [
    "for l in headline_list:\n",
    "    print(l.find_element(By.CLASS_NAME, \"sa_text\").text)\n",
    "    "
   ]
  }
 ],
 "metadata": {
  "kernelspec": {
   "display_name": "Python 3",
   "language": "python",
   "name": "python3"
  },
  "language_info": {
   "codemirror_mode": {
    "name": "ipython",
    "version": 3
   },
   "file_extension": ".py",
   "mimetype": "text/x-python",
   "name": "python",
   "nbconvert_exporter": "python",
   "pygments_lexer": "ipython3",
   "version": "3.10.11"
  }
 },
 "nbformat": 4,
 "nbformat_minor": 2
}
